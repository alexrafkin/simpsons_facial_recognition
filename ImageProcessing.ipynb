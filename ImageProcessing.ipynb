{
  "nbformat": 4,
  "nbformat_minor": 0,
  "metadata": {
    "colab": {
      "name": "ImageProcessing.ipynb",
      "provenance": [],
      "collapsed_sections": [
        "aG_BZawo2I3f"
      ],
      "authorship_tag": "ABX9TyMs8FYLKe9li422kpPDObRu",
      "include_colab_link": true
    },
    "kernelspec": {
      "name": "python3",
      "display_name": "Python 3"
    },
    "accelerator": "GPU"
  },
  "cells": [
    {
      "cell_type": "markdown",
      "metadata": {
        "id": "view-in-github",
        "colab_type": "text"
      },
      "source": [
        "<a href=\"https://colab.research.google.com/github/alexrafkin/simpsons_facial_recognition/blob/main/ImageProcessing.ipynb\" target=\"_parent\"><img src=\"https://colab.research.google.com/assets/colab-badge.svg\" alt=\"Open In Colab\"/></a>"
      ]
    },
    {
      "cell_type": "code",
      "metadata": {
        "colab": {
          "base_uri": "https://localhost:8080/"
        },
        "id": "-y9Dk0oL8UCg",
        "outputId": "ca735b81-26ef-431a-c521-69aec7ca0a1e"
      },
      "source": [
        "from google.colab import drive\n",
        "drive.mount('/content/drive')"
      ],
      "execution_count": null,
      "outputs": [
        {
          "output_type": "stream",
          "text": [
            "Mounted at /content/drive\n"
          ],
          "name": "stdout"
        }
      ]
    },
    {
      "cell_type": "code",
      "metadata": {
        "id": "9f0TAEbF8WjG"
      },
      "source": [
        "import PIL\n",
        "from PIL import Image\n",
        "import glob\n",
        "import numpy as np\n",
        "from numpy import asarray"
      ],
      "execution_count": null,
      "outputs": []
    },
    {
      "cell_type": "code",
      "metadata": {
        "id": "6yZ4ysI8r-7-"
      },
      "source": [
        "import os\n",
        "os.chdir(\"drive/My Drive/Thinkful/Simpsons\")"
      ],
      "execution_count": null,
      "outputs": []
    },
    {
      "cell_type": "markdown",
      "metadata": {
        "id": "aG_BZawo2I3f"
      },
      "source": [
        "#Original Processing"
      ]
    },
    {
      "cell_type": "code",
      "metadata": {
        "id": "Crk01fX3rdE-"
      },
      "source": [
        "X_train = []\n",
        "Y_train = []\n",
        "X_test = []\n",
        "Y_test = []"
      ],
      "execution_count": null,
      "outputs": []
    },
    {
      "cell_type": "code",
      "metadata": {
        "colab": {
          "base_uri": "https://localhost:8080/"
        },
        "id": "stmnYsEALWd0",
        "outputId": "6a52d700-74b4-4cb6-8935-f4517b9a3018"
      },
      "source": [
        "for folderpath in glob.iglob('/content/drive/MyDrive/Thinkful/Simpsons/simpsons_testset/*', recursive=True):\n",
        "  #print(folderpath)\n",
        "  for filepath in glob.iglob(folderpath + '/*.jpg'):\n",
        "    split = filepath.split('/')\n",
        "    character = split[7]\n",
        "    #print(character)\n",
        "    #print(filepath)\n",
        "\n",
        "    # load the image\n",
        "    image = Image.open(filepath)\n",
        "    # resize the image to be the same as all the other images\n",
        "    image = image.resize((100,100))\n",
        "    # convert image to numpy array\n",
        "    data = asarray(image)\n",
        "    # summarize shape\n",
        "    data = np.reshape(data,(1,10000,3))[0]\n",
        "\n",
        "    X_test.append(data)\n",
        "    Y_test.append(character)\n",
        "  print(character)"
      ],
      "execution_count": null,
      "outputs": [
        {
          "output_type": "stream",
          "text": [
            "sideshow_bob\n",
            "moe_szyslak\n",
            "charles_montgomery_burns\n",
            "milhouse_van_houten\n",
            "lenny_leonard\n",
            "edna_krabappel\n",
            "chief_wiggum\n",
            "ned_flanders\n",
            "abraham_grampa_simpson\n",
            "krusty_the_clown\n",
            "kent_brockman\n",
            "bart_simpson\n",
            "homer_simpson\n",
            "comic_book_guy\n",
            "mayor_quimby\n",
            "apu_nahasapeemapetilon\n",
            "lisa_simpson\n",
            "principal_skinner\n",
            "marge_simpson\n",
            "nelson_muntz\n"
          ],
          "name": "stdout"
        }
      ]
    },
    {
      "cell_type": "code",
      "metadata": {
        "id": "GSqOuwlysxlz"
      },
      "source": [
        "np.save('X_test.npy', X_test) # saving the X_test array to the drive\n",
        "np.save('Y_test.npy', Y_test) # saving the Y_test array to the drive"
      ],
      "execution_count": null,
      "outputs": []
    },
    {
      "cell_type": "code",
      "metadata": {
        "colab": {
          "base_uri": "https://localhost:8080/"
        },
        "id": "MKEPmtdztdLe",
        "outputId": "75902a9e-6853-4c03-ca21-6d88651379b3"
      },
      "source": [
        "for folderpath in glob.iglob('/content/drive/MyDrive/Thinkful/Simpsons/simpsons_trainingset/*', recursive=True):\n",
        "  #print(folderpath)\n",
        "  for filepath in glob.iglob(folderpath + '/*.jpg'):\n",
        "    split = filepath.split('/')\n",
        "    character = split[7]\n",
        "    #print(character)\n",
        "    #print(filepath)\n",
        "\n",
        "    # load the image\n",
        "    image = Image.open(filepath)\n",
        "    # resize the image to be the same as all the other images\n",
        "    image = image.resize((100,100))\n",
        "    # convert image to numpy array\n",
        "    data = asarray(image)\n",
        "    # summarize shape\n",
        "    data = np.reshape(data,(1,10000,3))[0]\n",
        "\n",
        "    X_train.append(data)\n",
        "    Y_train.append(character)\n",
        "  print(character)"
      ],
      "execution_count": null,
      "outputs": [
        {
          "output_type": "stream",
          "text": [
            "charles_montgomery_burns\n",
            "chief_wiggum\n",
            "lenny_leonard\n",
            "milhouse_van_houten\n",
            "sideshow_bob\n",
            "moe_szyslak\n",
            "edna_krabappel\n",
            "abraham_grampa_simpson\n",
            "krusty_the_clown\n",
            "marge_simpson\n",
            "ned_flanders\n",
            "apu_nahasapeemapetilon\n",
            "comic_book_guy\n",
            "nelson_muntz\n",
            "mayor_quimby\n",
            "kent_brockman\n",
            "principal_skinner\n",
            "homer_simpson\n",
            "lisa_simpson\n",
            "bart_simpson\n"
          ],
          "name": "stdout"
        }
      ]
    },
    {
      "cell_type": "code",
      "metadata": {
        "id": "0ZseHmojtYvv"
      },
      "source": [
        "np.save('X_train.npy', X_train) # saving the X_train array to the drive\n",
        "np.save('Y_train.npy', Y_train) # saving the Y_train array to the drive"
      ],
      "execution_count": null,
      "outputs": []
    },
    {
      "cell_type": "markdown",
      "metadata": {
        "id": "AFV1aEUw1FUX"
      },
      "source": [
        "#Other pre-processing stuff"
      ]
    },
    {
      "cell_type": "code",
      "metadata": {
        "colab": {
          "base_uri": "https://localhost:8080/"
        },
        "id": "5eXLIpgpJ8UL",
        "outputId": "5eb25cdd-2c76-49ac-8937-7800e9b3e8e0"
      },
      "source": [
        "X_test[0]"
      ],
      "execution_count": null,
      "outputs": [
        {
          "output_type": "execute_result",
          "data": {
            "text/plain": [
              "array([[ 48, 149, 221],\n",
              "       [ 60, 146, 208],\n",
              "       [ 92, 153, 196],\n",
              "       ...,\n",
              "       [171, 160, 147],\n",
              "       [170, 159, 146],\n",
              "       [170, 159, 146]], dtype=uint8)"
            ]
          },
          "metadata": {
            "tags": []
          },
          "execution_count": 7
        }
      ]
    },
    {
      "cell_type": "code",
      "metadata": {
        "colab": {
          "base_uri": "https://localhost:8080/",
          "height": 35
        },
        "id": "S-9usFmHJ35G",
        "outputId": "782a24e6-1fa9-409b-e5a4-501b1cd7526c"
      },
      "source": [
        "Y_test_str[0]"
      ],
      "execution_count": null,
      "outputs": [
        {
          "output_type": "execute_result",
          "data": {
            "application/vnd.google.colaboratory.intrinsic+json": {
              "type": "string"
            },
            "text/plain": [
              "'sideshow_bob'"
            ]
          },
          "metadata": {
            "tags": []
          },
          "execution_count": 6
        }
      ]
    },
    {
      "cell_type": "code",
      "metadata": {
        "id": "abcGwB_nuP3b"
      },
      "source": [
        "X_test = np.load('X_test.npy')\n",
        "Y_test_str = np.load('Y_test.npy')"
      ],
      "execution_count": null,
      "outputs": []
    },
    {
      "cell_type": "code",
      "metadata": {
        "id": "sf59LV35uyLM"
      },
      "source": [
        "X_train = np.load('X_train.npy')\n",
        "Y_train_str = np.load('Y_train.npy')"
      ],
      "execution_count": null,
      "outputs": []
    },
    {
      "cell_type": "code",
      "metadata": {
        "id": "K9Oe_HFaaJ75"
      },
      "source": [
        "X_train = X_train.reshape(X_train.shape[0],100,100,3)\n",
        "X_test = X_test.reshape(X_test.shape[0],100,100,3)\n",
        "#X_train = X_train.astype('float32')\n",
        "#X_test = X_test.astype('float32')\n",
        "#X_train /= 255\n",
        "#X_test /= 255"
      ],
      "execution_count": null,
      "outputs": []
    },
    {
      "cell_type": "markdown",
      "metadata": {
        "id": "CT1y6AL3fDBZ"
      },
      "source": [
        "Reshaping the data to be 100x100x3 format - this is what we will feed into the CNN model. We are also normalizing the RGB values to be between 0 and 1 instead of 0 and 255."
      ]
    },
    {
      "cell_type": "code",
      "metadata": {
        "id": "vnQOYZBaU-7r"
      },
      "source": [
        "characters = {'abraham_grampa_simpson' : 0, 'apu_nahasapeemapetilon' : 1, 'bart_simpson' : 2, \n",
        "        'charles_montgomery_burns' : 3, 'chief_wiggum' : 4, 'comic_book_guy' : 5, 'edna_krabappel' : 6, \n",
        "        'homer_simpson' : 7, 'kent_brockman' : 8, 'krusty_the_clown' : 9, 'lenny_leonard' : 10, 'lisa_simpson' : 11, \n",
        "        'marge_simpson' : 12, 'mayor_quimby' : 13, 'milhouse_van_houten' : 14, 'moe_szyslak' : 15, \n",
        "        'ned_flanders' : 16, 'nelson_muntz' : 17, 'principal_skinner' : 18, 'sideshow_bob' : 19}"
      ],
      "execution_count": null,
      "outputs": []
    },
    {
      "cell_type": "code",
      "metadata": {
        "id": "DPomEdUNPUuS"
      },
      "source": [
        "characters_r = {0: 'abraham_grampa_simpson', 1: 'apu_nahasapeemapetilon', 2: 'bart_simpson', \n",
        "        3: 'charles_montgomery_burns', 4: 'chief_wiggum', 5: 'comic_book_guy', 6: 'edna_krabappel', \n",
        "        7: 'homer_simpson', 8: 'kent_brockman', 9: 'krusty_the_clown', 10: 'lenny_leonard', 11: 'lisa_simpson', \n",
        "        12: 'marge_simpson', 13: 'mayor_quimby', 14: 'milhouse_van_houten', 15: 'moe_szyslak', \n",
        "        16: 'ned_flanders', 17: 'nelson_muntz', 18: 'principal_skinner', 19: 'sideshow_bob'}"
      ],
      "execution_count": null,
      "outputs": []
    },
    {
      "cell_type": "markdown",
      "metadata": {
        "id": "2U_4BTMMfUHe"
      },
      "source": [
        "Building two dictionaries we will use to reference the characters and their associated indicies."
      ]
    },
    {
      "cell_type": "code",
      "metadata": {
        "id": "TyD8TA54KHE9"
      },
      "source": [
        "import matplotlib.pyplot as plt\n"
      ],
      "execution_count": null,
      "outputs": []
    },
    {
      "cell_type": "code",
      "metadata": {
        "colab": {
          "base_uri": "https://localhost:8080/",
          "height": 285
        },
        "id": "BjaC9PfBKFS1",
        "outputId": "278bae58-2dc6-44d7-b09d-30fb7b5b727d"
      },
      "source": [
        "plt.imshow(X_test[54])"
      ],
      "execution_count": null,
      "outputs": [
        {
          "output_type": "execute_result",
          "data": {
            "text/plain": [
              "<matplotlib.image.AxesImage at 0x7f9bdbd2af10>"
            ]
          },
          "metadata": {
            "tags": []
          },
          "execution_count": 35
        },
        {
          "output_type": "display_data",
          "data": {
            "image/png": "[encoded data removed]",
            "text/plain": [
              "<Figure size 432x288 with 1 Axes>"
            ]
          },
          "metadata": {
            "tags": [],
            "needs_background": "light"
          }
        }
      ]
    },
    {
      "cell_type": "code",
      "metadata": {
        "colab": {
          "base_uri": "https://localhost:8080/",
          "height": 35
        },
        "id": "0RuPBWmfKyEw",
        "outputId": "99ac7709-01b6-4c73-e019-1476fd1ea06a"
      },
      "source": [
        "Y_test_str[60]"
      ],
      "execution_count": null,
      "outputs": [
        {
          "output_type": "execute_result",
          "data": {
            "application/vnd.google.colaboratory.intrinsic+json": {
              "type": "string"
            },
            "text/plain": [
              "'moe_szyslak'"
            ]
          },
          "metadata": {
            "tags": []
          },
          "execution_count": 32
        }
      ]
    },
    {
      "cell_type": "code",
      "metadata": {
        "colab": {
          "base_uri": "https://localhost:8080/",
          "height": 35
        },
        "id": "2TovM5VQyZRQ",
        "outputId": "51de7e7f-e5dd-449c-fb72-3e09e8bf5012"
      },
      "source": [
        "Y_test_str[0]"
      ],
      "execution_count": null,
      "outputs": [
        {
          "output_type": "execute_result",
          "data": {
            "application/vnd.google.colaboratory.intrinsic+json": {
              "type": "string"
            },
            "text/plain": [
              "'sideshow_bob'"
            ]
          },
          "metadata": {
            "tags": []
          },
          "execution_count": 9
        }
      ]
    },
    {
      "cell_type": "code",
      "metadata": {
        "id": "0R45SFQAR1lX"
      },
      "source": [
        "Y_test = np.array(characters[Y_test_str[0]])\n",
        "Y_train = np.array(characters[Y_train_str[0]])"
      ],
      "execution_count": null,
      "outputs": []
    },
    {
      "cell_type": "code",
      "metadata": {
        "colab": {
          "base_uri": "https://localhost:8080/"
        },
        "id": "lNGc3bFL7qXE",
        "outputId": "4709d2cc-ea67-4df8-f276-4f8df3e8defc"
      },
      "source": [
        "Y_test"
      ],
      "execution_count": null,
      "outputs": [
        {
          "output_type": "execute_result",
          "data": {
            "text/plain": [
              "array(19)"
            ]
          },
          "metadata": {
            "tags": []
          },
          "execution_count": 11
        }
      ]
    },
    {
      "cell_type": "code",
      "metadata": {
        "id": "ii_aWFbmP7pr"
      },
      "source": [
        "for i in Y_test_str[1:]:\n",
        "  Y_test = np.append(Y_test, characters[i])"
      ],
      "execution_count": null,
      "outputs": []
    },
    {
      "cell_type": "code",
      "metadata": {
        "id": "rrVv7KuwR_q3"
      },
      "source": [
        "for i in Y_train_str[1:]:\n",
        "  Y_train = np.append(Y_train, characters[i])"
      ],
      "execution_count": null,
      "outputs": []
    },
    {
      "cell_type": "markdown",
      "metadata": {
        "id": "fxq-Uan6fdTj"
      },
      "source": [
        "Since our Y values are in string format, we needed to reformat them to be integer values, and we will soon have to turn them into dummy variables to feed into the CNN."
      ]
    },
    {
      "cell_type": "code",
      "metadata": {
        "id": "c-PDBlA71qAb"
      },
      "source": [
        "#np.save('X_train_FINAL.npy', X_train) # saving the X_train array to the drive\n",
        "#np.save('Y_train_FINAL.npy', Y_train) # saving the Y_train array to the drive"
      ],
      "execution_count": null,
      "outputs": []
    },
    {
      "cell_type": "code",
      "metadata": {
        "id": "Y-D4WR0511ii"
      },
      "source": [
        "#np.save('X_test_FINAL.npy', X_test) # saving the X_train array to the drive\n",
        "#np.save('Y_test_FINAL.npy', Y_test) # saving the Y_train array to the drive"
      ],
      "execution_count": null,
      "outputs": []
    },
    {
      "cell_type": "code",
      "metadata": {
        "id": "DmehPhYiz60w"
      },
      "source": [
        "X = np.concatenate((X_train, X_test))\n",
        "Y = np.concatenate((Y_train, Y_test))"
      ],
      "execution_count": null,
      "outputs": []
    },
    {
      "cell_type": "code",
      "metadata": {
        "id": "2tlabHhM0Fdn",
        "colab": {
          "base_uri": "https://localhost:8080/"
        },
        "outputId": "7fd77fee-194a-4447-dad4-f82154881177"
      },
      "source": [
        "print(X.shape)\n",
        "print(Y.shape)"
      ],
      "execution_count": null,
      "outputs": [
        {
          "output_type": "stream",
          "text": [
            "(20548, 100, 100, 3)\n",
            "(20548,)\n"
          ],
          "name": "stdout"
        }
      ]
    },
    {
      "cell_type": "code",
      "metadata": {
        "id": "ZyilCI_S2asp"
      },
      "source": [
        "#np.save('X_TOTAL.npy', X) # saving the X_train array to the drive\n",
        "#np.save('Y_TOTAL.npy', Y) # saving the Y_train array to the drive"
      ],
      "execution_count": null,
      "outputs": []
    },
    {
      "cell_type": "markdown",
      "metadata": {
        "id": "pBOCxrazgGuw"
      },
      "source": [
        "This is the total data."
      ]
    },
    {
      "cell_type": "code",
      "metadata": {
        "id": "JciAqK0i0PTp"
      },
      "source": [
        "from sklearn.model_selection import train_test_split\n",
        "\n",
        "x_train, x_test, y_train, y_test = train_test_split(X, Y, test_size=0.1, random_state=69)"
      ],
      "execution_count": null,
      "outputs": []
    },
    {
      "cell_type": "code",
      "metadata": {
        "id": "VNwF7axI2z7n"
      },
      "source": [
        "np.save('x_train_FINAL.npy', x_train) # saving the X_train array to the drive\n",
        "np.save('y_train_FINAL.npy', y_train) # saving the Y_train array to the drive"
      ],
      "execution_count": null,
      "outputs": []
    },
    {
      "cell_type": "code",
      "metadata": {
        "id": "omXP38wj2z7x"
      },
      "source": [
        "np.save('x_test_FINAL.npy', x_test) # saving the X_train array to the drive\n",
        "np.save('y_test_FINAL.npy', y_test) # saving the Y_train array to the drive"
      ],
      "execution_count": null,
      "outputs": []
    },
    {
      "cell_type": "code",
      "metadata": {
        "id": "wuqFnE6A3F82"
      },
      "source": [
        "x_train2, x_test2, y_train2, y_test2 = train_test_split(X, Y, test_size=0.1, random_state=563)\n",
        "np.save('x_train_meta.npy', x_train2) # saving the X_train array to the drive\n",
        "np.save('y_train_meta.npy', y_train2) # saving the Y_train array to the drive\n",
        "np.save('x_test_meta.npy', x_test2) # saving the X_train array to the drive\n",
        "np.save('y_test_meta.npy', y_test2) # saving the Y_train array to the drive"
      ],
      "execution_count": null,
      "outputs": []
    }
  ]
}